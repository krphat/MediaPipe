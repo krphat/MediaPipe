{
 "cells": [
  {
   "cell_type": "markdown",
   "metadata": {},
   "source": [
    "## 0. Import lib"
   ]
  },
  {
   "cell_type": "code",
   "execution_count": 5,
   "metadata": {},
   "outputs": [],
   "source": [
    "import cv2\n",
    "import hand_landmark_detection as hld"
   ]
  },
  {
   "cell_type": "markdown",
   "metadata": {},
   "source": [
    "<img src=https://developers.google.com/static/mediapipe/images/solutions/hand-landmarks.png />"
   ]
  },
  {
   "cell_type": "markdown",
   "metadata": {},
   "source": [
    "## 1. Define variable "
   ]
  },
  {
   "cell_type": "code",
   "execution_count": 6,
   "metadata": {},
   "outputs": [],
   "source": [
    "detector = hld.HandLandmarker(maxHands=2, minDetectionCon=1, minTrackCon=0.5)\n",
    "fingers_tip = [4,8,12,16,20]"
   ]
  },
  {
   "cell_type": "markdown",
   "metadata": {},
   "source": [
    "## 2. Count finger"
   ]
  },
  {
   "cell_type": "code",
   "execution_count": 7,
   "metadata": {},
   "outputs": [],
   "source": [
    "cap = cv2.VideoCapture(0)\n",
    "while cap.isOpened():\n",
    "\n",
    "    ret, frame = cap.read()\n",
    "    if not ret:\n",
    "        break\n",
    "\n",
    "    # detect hand\n",
    "\n",
    "    fingers_open = []\n",
    "    frame, hands_appear = detector.detectHand(frame)\n",
    "    lmList = detector.getLandmarks()\n",
    "\n",
    "    # check whether the fingers are open or closed\n",
    "\n",
    "    if len(lmList) != 0:\n",
    "        lmList1 = lmList[:21]\n",
    "        lmList2 = lmList[21:]\n",
    "        lmList = [lmList1, lmList2]\n",
    "        for i in range(len(hands_appear)):\n",
    "            if len(lmList[i]) != 0:\n",
    "                if hands_appear[i] == 'Left':\n",
    "                    if lmList[i][fingers_tip[0]][1] > lmList[i][fingers_tip[4]][1] and lmList[i][fingers_tip[0]][1] > lmList[i][fingers_tip[0]-2][1]:\n",
    "                        fingers_open.append(1)\n",
    "                    elif lmList[i][fingers_tip[0]][1] < lmList[i][fingers_tip[4]][1] and lmList[i][fingers_tip[0]][1] < lmList[i][fingers_tip[0]-2][1]:\n",
    "                        fingers_open.append(1)\n",
    "                    else:\n",
    "                        fingers_open.append(0)\n",
    "                elif hands_appear[i] == 'Right':\n",
    "                    if lmList[i][fingers_tip[0]][1] < lmList[i][fingers_tip[4]][1] and lmList[i][fingers_tip[0]][1] < lmList[i][fingers_tip[0]-2][1]:\n",
    "                        fingers_open.append(1)\n",
    "                    elif lmList[i][fingers_tip[0]][1] > lmList[i][fingers_tip[4]][1] and lmList[i][fingers_tip[0]][1] > lmList[i][fingers_tip[0]-2][1]:\n",
    "                        fingers_open.append(1)\n",
    "                    else:\n",
    "                        fingers_open.append(0)\n",
    "                for j in range(1,5):\n",
    "                    if lmList[i][fingers_tip[j]][2] < lmList[i][fingers_tip[j]-2][2]:\n",
    "                        fingers_open.append(1)\n",
    "                    else:\n",
    "                        fingers_open.append(0)\n",
    "\n",
    "    # display the number of open finger\n",
    "\n",
    "    num_of_fingers = fingers_open.count(1)\n",
    "    cv2.putText(frame, str(num_of_fingers), (10,70), cv2.FONT_HERSHEY_SIMPLEX, 3, (255, 255, 255), 5, cv2.LINE_AA)\n",
    "\n",
    "    cv2.imshow('Hello', frame)\n",
    "\n",
    "    if cv2.waitKey(1) & 0xFF == ord('q'):\n",
    "        break\n",
    "\n",
    "cap.release()\n",
    "cv2.destroyAllWindows()"
   ]
  }
 ],
 "metadata": {
  "kernelspec": {
   "display_name": "Python 3",
   "language": "python",
   "name": "python3"
  },
  "language_info": {
   "codemirror_mode": {
    "name": "ipython",
    "version": 3
   },
   "file_extension": ".py",
   "mimetype": "text/x-python",
   "name": "python",
   "nbconvert_exporter": "python",
   "pygments_lexer": "ipython3",
   "version": "3.11.2"
  },
  "orig_nbformat": 4
 },
 "nbformat": 4,
 "nbformat_minor": 2
}
