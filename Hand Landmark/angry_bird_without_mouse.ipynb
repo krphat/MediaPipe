{
 "cells": [
  {
   "cell_type": "markdown",
   "metadata": {},
   "source": [
    "## 0.Import lib"
   ]
  },
  {
   "cell_type": "code",
   "execution_count": 1,
   "metadata": {},
   "outputs": [],
   "source": [
    "import cv2\n",
    "import hand_landmark_detection as hld\n",
    "import pydirectinput as pdi"
   ]
  },
  {
   "cell_type": "markdown",
   "metadata": {},
   "source": [
    "## 1. Define variabels"
   ]
  },
  {
   "cell_type": "code",
   "execution_count": 2,
   "metadata": {},
   "outputs": [],
   "source": [
    "detector = hld.HandLandmarker(maxHands=1, minDetectionCon=1, minTrackCon=0.5)\n",
    "MIDDLE_FINGER_MCP = 9"
   ]
  },
  {
   "cell_type": "markdown",
   "metadata": {},
   "source": [
    "<img src=https://developers.google.com/static/mediapipe/images/solutions/hand-landmarks.png />"
   ]
  },
  {
   "cell_type": "markdown",
   "metadata": {},
   "source": [
    "## 2. Process"
   ]
  },
  {
   "cell_type": "code",
   "execution_count": 5,
   "metadata": {},
   "outputs": [],
   "source": [
    "cap = cv2.VideoCapture(0)\n",
    "while cap.isOpened():\n",
    "\n",
    "    ret, frame = cap.read()\n",
    "    if not ret:\n",
    "        break\n",
    "\n",
    "    # detect hand\n",
    "\n",
    "    frame, hand_appear = detector.detectHand(frame)\n",
    "    lstLm = detector.getLandmarks()\n",
    "    if len(lstLm) != 0:\n",
    "\n",
    "        # Choose MIDDLE_FINGER_MCP as the focus of moving the mouse on the screen \n",
    "        # with display screen 1920 x 1080\n",
    "\n",
    "        cx = int(lstLm[MIDDLE_FINGER_MCP][1] * 1920)\n",
    "        cy = int(lstLm[MIDDLE_FINGER_MCP][2] * 1080)\n",
    "        pdi.moveTo(cx, cy)\n",
    "\n",
    "        # check event\n",
    "\n",
    "        check1 = lstLm[8][2] > lstLm[6][2]\n",
    "        check2 = lstLm[12][2] > lstLm[10][2]\n",
    "        check3 = lstLm[16][2] > lstLm[14][2]\n",
    "        if check1 and check2 and check3:\n",
    "            pdi.mouseDown()\n",
    "        else:\n",
    "            pdi.mouseUp()\n",
    "        \n",
    "    cv2.imshow('Play', frame)\n",
    "    if cv2.waitKey(1) & 0xFF == ord('q'):\n",
    "        break\n",
    "        \n",
    "cap.release()\n",
    "cv2.destroyAllWindows()"
   ]
  }
 ],
 "metadata": {
  "kernelspec": {
   "display_name": "Python 3",
   "language": "python",
   "name": "python3"
  },
  "language_info": {
   "codemirror_mode": {
    "name": "ipython",
    "version": 3
   },
   "file_extension": ".py",
   "mimetype": "text/x-python",
   "name": "python",
   "nbconvert_exporter": "python",
   "pygments_lexer": "ipython3",
   "version": "3.11.2"
  },
  "orig_nbformat": 4
 },
 "nbformat": 4,
 "nbformat_minor": 2
}
